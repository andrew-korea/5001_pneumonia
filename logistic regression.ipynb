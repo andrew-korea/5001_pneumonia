{
 "cells": [
  {
   "cell_type": "code",
   "execution_count": 1,
   "metadata": {},
   "outputs": [],
   "source": [
    "import pandas as pd\n",
    "import numpy as np\n",
    "\n",
    "from sklearn.model_selection import GridSearchCV\n",
    "from sklearn.linear_model import LogisticRegression\n",
    "from sklearn.svm import SVC\n",
    "\n",
    "from sklearn.metrics import accuracy_score\n",
    "\n",
    "train = pd.read_csv('./data/train.csv', index_col=0)\n",
    "train = train.dropna(axis=\"index\")\n",
    "\n",
    "test_X = pd.read_csv('./data/test.csv', index_col=0)\n",
    "test_y = pd.read_csv('./data/sample_submission.csv', index_col=0)\n",
    "\n",
    "train_X = train.iloc[:, :-1]\n",
    "train_y = train[train.columns[-1]]"
   ]
  },
  {
   "cell_type": "code",
   "execution_count": 12,
   "metadata": {
    "scrolled": true
   },
   "outputs": [
    {
     "data": {
      "text/plain": [
       "GridSearchCV(cv=10, estimator=LogisticRegression(),\n",
       "             param_grid={'C': array([1.00000000e-05, 3.35981829e-05, 1.12883789e-04, 3.79269019e-04,\n",
       "       1.27427499e-03, 4.28133240e-03, 1.43844989e-02, 4.83293024e-02,\n",
       "       1.62377674e-01, 5.45559478e-01, 1.83298071e+00, 6.15848211e+00,\n",
       "       2.06913808e+01, 6.95192796e+01, 2.33572147e+02, 7.84759970e+02,\n",
       "       2.63665090e+03, 8.85866790e+03, 2.97635144e+04, 1.00000000e+05]),\n",
       "                         'max_iter': [5000], 'penalty': ['l2'],\n",
       "                         'solver': ['newton-cg', 'lbfgs', 'saga', 'liblinear'],\n",
       "                         'tol': [0.001]})"
      ]
     },
     "execution_count": 12,
     "metadata": {},
     "output_type": "execute_result"
    }
   ],
   "source": [
    "grid = {\"C\":np.logspace(-5, 5, 20), \n",
    "        \"penalty\":[\"l2\"], \n",
    "        \"solver\":['newton-cg', 'lbfgs', 'saga',\"liblinear\"],\n",
    "        \"max_iter\":[5000],\n",
    "        \"tol\":[1e-3]\n",
    "       }\n",
    "\n",
    "model=GridSearchCV(LogisticRegression(), grid, cv=10)\n",
    "model.fit(train_X, train_y)"
   ]
  },
  {
   "cell_type": "code",
   "execution_count": 13,
   "metadata": {},
   "outputs": [
    {
     "name": "stdout",
     "output_type": "stream",
     "text": [
      "Logistics Regression accuracy:  0.7796610169491526\n",
      "\n",
      "Best parameters:  {'C': 1e-05, 'max_iter': 5000, 'penalty': 'l2', 'solver': 'newton-cg', 'tol': 0.001}\n",
      "Mean CV Accuracy:  0.9180555555555555\n"
     ]
    }
   ],
   "source": [
    "predictions = model.predict(test_X)\n",
    "print(\"Logistics Regression accuracy: \", accuracy_score(predictions, test_y))\n",
    "print()\n",
    "print(\"Best parameters: \",model.best_params_)\n",
    "print(\"Mean CV Accuracy: \",model.best_score_)"
   ]
  },
  {
   "cell_type": "code",
   "execution_count": 37,
   "metadata": {},
   "outputs": [],
   "source": [
    "import csv\n",
    "\n",
    "header = ['id', 'label']\n",
    "\n",
    "with open('submission.csv', 'w', encoding='UTF8') as f:\n",
    "    writer = csv.writer(f)\n",
    "\n",
    "    writer.writerow(header)    \n",
    "    for i in range(0, len(predictions)):\n",
    "        writer.writerow([i,predictions[i]])"
   ]
  }
 ],
 "metadata": {
  "kernelspec": {
   "display_name": "Python 3",
   "language": "python",
   "name": "python3"
  },
  "language_info": {
   "codemirror_mode": {
    "name": "ipython",
    "version": 3
   },
   "file_extension": ".py",
   "mimetype": "text/x-python",
   "name": "python",
   "nbconvert_exporter": "python",
   "pygments_lexer": "ipython3",
   "version": "3.8.3"
  }
 },
 "nbformat": 4,
 "nbformat_minor": 4
}
